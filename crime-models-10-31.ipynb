{
 "cells": [
  {
   "cell_type": "code",
   "execution_count": 1,
   "metadata": {},
   "outputs": [],
   "source": [
    "import pandas as pd"
   ]
  },
  {
   "cell_type": "code",
   "execution_count": 2,
   "metadata": {},
   "outputs": [
    {
     "data": {
      "text/html": [
       "<div>\n",
       "<style scoped>\n",
       "    .dataframe tbody tr th:only-of-type {\n",
       "        vertical-align: middle;\n",
       "    }\n",
       "\n",
       "    .dataframe tbody tr th {\n",
       "        vertical-align: top;\n",
       "    }\n",
       "\n",
       "    .dataframe thead th {\n",
       "        text-align: right;\n",
       "    }\n",
       "</style>\n",
       "<table border=\"1\" class=\"dataframe\">\n",
       "  <thead>\n",
       "    <tr style=\"text-align: right;\">\n",
       "      <th></th>\n",
       "      <th>population</th>\n",
       "      <th>PopDens</th>\n",
       "      <th>numbUrban</th>\n",
       "      <th>pctUrban</th>\n",
       "      <th>medIncome</th>\n",
       "      <th>MedRent</th>\n",
       "      <th>PctHousOccup</th>\n",
       "      <th>PctHousOwnOcc</th>\n",
       "      <th>PersPerOwnOccHous</th>\n",
       "      <th>PersPerRentOccHous</th>\n",
       "      <th>burglPerPop</th>\n",
       "      <th>larcPerPop</th>\n",
       "      <th>robbPerPop</th>\n",
       "      <th>theftComb</th>\n",
       "    </tr>\n",
       "  </thead>\n",
       "  <tbody>\n",
       "    <tr>\n",
       "      <th>0</th>\n",
       "      <td>11980</td>\n",
       "      <td>1845.9</td>\n",
       "      <td>11980</td>\n",
       "      <td>100.0</td>\n",
       "      <td>75122</td>\n",
       "      <td>1001</td>\n",
       "      <td>98.37</td>\n",
       "      <td>91.01</td>\n",
       "      <td>3.00</td>\n",
       "      <td>2.84</td>\n",
       "      <td>114.85</td>\n",
       "      <td>1132.08</td>\n",
       "      <td>8.20</td>\n",
       "      <td>1255.13</td>\n",
       "    </tr>\n",
       "    <tr>\n",
       "      <th>1</th>\n",
       "      <td>23123</td>\n",
       "      <td>2186.7</td>\n",
       "      <td>23123</td>\n",
       "      <td>100.0</td>\n",
       "      <td>47917</td>\n",
       "      <td>627</td>\n",
       "      <td>97.15</td>\n",
       "      <td>84.88</td>\n",
       "      <td>2.83</td>\n",
       "      <td>1.96</td>\n",
       "      <td>242.37</td>\n",
       "      <td>1598.78</td>\n",
       "      <td>21.26</td>\n",
       "      <td>1862.41</td>\n",
       "    </tr>\n",
       "    <tr>\n",
       "      <th>2</th>\n",
       "      <td>29344</td>\n",
       "      <td>2780.9</td>\n",
       "      <td>29344</td>\n",
       "      <td>100.0</td>\n",
       "      <td>35669</td>\n",
       "      <td>484</td>\n",
       "      <td>95.68</td>\n",
       "      <td>57.79</td>\n",
       "      <td>2.69</td>\n",
       "      <td>2.06</td>\n",
       "      <td>758.14</td>\n",
       "      <td>4972.19</td>\n",
       "      <td>154.95</td>\n",
       "      <td>5885.28</td>\n",
       "    </tr>\n",
       "    <tr>\n",
       "      <th>3</th>\n",
       "      <td>16656</td>\n",
       "      <td>3217.7</td>\n",
       "      <td>0</td>\n",
       "      <td>0.0</td>\n",
       "      <td>20580</td>\n",
       "      <td>333</td>\n",
       "      <td>91.19</td>\n",
       "      <td>54.89</td>\n",
       "      <td>2.51</td>\n",
       "      <td>2.20</td>\n",
       "      <td>1301.78</td>\n",
       "      <td>4142.56</td>\n",
       "      <td>57.86</td>\n",
       "      <td>5502.20</td>\n",
       "    </tr>\n",
       "    <tr>\n",
       "      <th>4</th>\n",
       "      <td>11245</td>\n",
       "      <td>974.2</td>\n",
       "      <td>0</td>\n",
       "      <td>0.0</td>\n",
       "      <td>17390</td>\n",
       "      <td>332</td>\n",
       "      <td>92.45</td>\n",
       "      <td>53.57</td>\n",
       "      <td>2.55</td>\n",
       "      <td>2.12</td>\n",
       "      <td>728.93</td>\n",
       "      <td>8490.87</td>\n",
       "      <td>32.04</td>\n",
       "      <td>9251.84</td>\n",
       "    </tr>\n",
       "  </tbody>\n",
       "</table>\n",
       "</div>"
      ],
      "text/plain": [
       "   population  PopDens  numbUrban  pctUrban  medIncome  MedRent  PctHousOccup  \\\n",
       "0       11980   1845.9      11980     100.0      75122     1001         98.37   \n",
       "1       23123   2186.7      23123     100.0      47917      627         97.15   \n",
       "2       29344   2780.9      29344     100.0      35669      484         95.68   \n",
       "3       16656   3217.7          0       0.0      20580      333         91.19   \n",
       "4       11245    974.2          0       0.0      17390      332         92.45   \n",
       "\n",
       "   PctHousOwnOcc  PersPerOwnOccHous  PersPerRentOccHous  burglPerPop  \\\n",
       "0          91.01               3.00                2.84       114.85   \n",
       "1          84.88               2.83                1.96       242.37   \n",
       "2          57.79               2.69                2.06       758.14   \n",
       "3          54.89               2.51                2.20      1301.78   \n",
       "4          53.57               2.55                2.12       728.93   \n",
       "\n",
       "   larcPerPop  robbPerPop  theftComb  \n",
       "0     1132.08        8.20    1255.13  \n",
       "1     1598.78       21.26    1862.41  \n",
       "2     4972.19      154.95    5885.28  \n",
       "3     4142.56       57.86    5502.20  \n",
       "4     8490.87       32.04    9251.84  "
      ]
     },
     "execution_count": 2,
     "metadata": {},
     "output_type": "execute_result"
    }
   ],
   "source": [
    "crime_df = pd.read_csv(\"/Users/fabiolarojas/Documents/data-science/dtsc3601-2/project-3601/filtered_crime_df.csv\")\n",
    "crime_df.head()"
   ]
  },
  {
   "cell_type": "code",
   "execution_count": 3,
   "metadata": {},
   "outputs": [
    {
     "data": {
      "text/plain": [
       "Index(['population', 'PopDens', 'numbUrban', 'pctUrban', 'medIncome',\n",
       "       'MedRent', 'PctHousOccup', 'PctHousOwnOcc', 'PersPerOwnOccHous',\n",
       "       'PersPerRentOccHous', 'burglPerPop', 'larcPerPop', 'robbPerPop',\n",
       "       'theftComb'],\n",
       "      dtype='object')"
      ]
     },
     "execution_count": 3,
     "metadata": {},
     "output_type": "execute_result"
    }
   ],
   "source": [
    "crime_df.columns"
   ]
  },
  {
   "cell_type": "markdown",
   "metadata": {},
   "source": [
    "## baseline"
   ]
  },
  {
   "cell_type": "code",
   "execution_count": 4,
   "metadata": {},
   "outputs": [
    {
     "data": {
      "text/plain": [
       "4565.73932095971"
      ]
     },
     "execution_count": 4,
     "metadata": {},
     "output_type": "execute_result"
    }
   ],
   "source": [
    "mean = crime_df['theftComb'].mean()\n",
    "mean"
   ]
  },
  {
   "cell_type": "code",
   "execution_count": 57,
   "metadata": {},
   "outputs": [
    {
     "name": "stdout",
     "output_type": "stream",
     "text": [
      "Baseline MAE: 1930.3982243470425\n",
      "Baseline MSE: 6612492.526712259\n",
      "Baseline RMSE: 2571.476721013095\n"
     ]
    }
   ],
   "source": [
    "import numpy as np\n",
    "crime_df['abs_diff_from_mean'] = abs(crime_df['theftComb'] - mean)\n",
    "baseline_mae = crime_df['abs_diff_from_mean'].mean()\n",
    "\n",
    "crime_df['squared_diff_from_mean'] = (crime_df['theftComb'] - mean) ** 2\n",
    "baseline_mse = crime_df['squared_diff_from_mean'].mean()\n",
    "\n",
    "baseline_rmse = np.sqrt(baseline_mse)\n",
    "\n",
    "print(f'Baseline MAE: {baseline_mae}')\n",
    "print(f'Baseline MSE: {baseline_mse}')\n",
    "print(f'Baseline RMSE: {baseline_rmse}')\n"
   ]
  },
  {
   "cell_type": "markdown",
   "metadata": {},
   "source": [
    "## train test split 70/30"
   ]
  },
  {
   "cell_type": "code",
   "execution_count": 6,
   "metadata": {},
   "outputs": [],
   "source": [
    "from sklearn.model_selection import train_test_split"
   ]
  },
  {
   "cell_type": "code",
   "execution_count": 7,
   "metadata": {},
   "outputs": [
    {
     "name": "stdout",
     "output_type": "stream",
     "text": [
      "(1546, 16)\n",
      "(663, 16)\n"
     ]
    }
   ],
   "source": [
    "crime_train, crime_test = train_test_split(crime_df, test_size =0.3, random_state = 1)\n",
    "print(crime_train.shape)\n",
    "print(crime_test.shape)"
   ]
  },
  {
   "cell_type": "code",
   "execution_count": 8,
   "metadata": {},
   "outputs": [],
   "source": [
    "x = crime_train[['population', \n",
    "              'PopDens', \n",
    "              'numbUrban', \n",
    "              'pctUrban', \n",
    "              'medIncome', \n",
    "              'MedRent', \n",
    "              'PctHousOccup', \n",
    "              'PctHousOwnOcc', \n",
    "              'PersPerOwnOccHous', \n",
    "              'PersPerRentOccHous'\n",
    "              ]]\n",
    "y = crime_train['theftComb']"
   ]
  },
  {
   "cell_type": "markdown",
   "metadata": {},
   "source": [
    "## CART model 01 (continuous, train set)"
   ]
  },
  {
   "cell_type": "code",
   "execution_count": 9,
   "metadata": {},
   "outputs": [],
   "source": [
    "from sklearn.tree import DecisionTreeRegressor"
   ]
  },
  {
   "cell_type": "code",
   "execution_count": 21,
   "metadata": {},
   "outputs": [],
   "source": [
    "# train\n",
    "cart_01 = DecisionTreeRegressor(max_leaf_nodes=5).fit(x,y)"
   ]
  },
  {
   "cell_type": "code",
   "execution_count": 24,
   "metadata": {},
   "outputs": [],
   "source": [
    "# predict\n",
    "prediction_cart_01 = cart_01.predict(x)"
   ]
  },
  {
   "cell_type": "code",
   "execution_count": 59,
   "metadata": {},
   "outputs": [
    {
     "name": "stdout",
     "output_type": "stream",
     "text": [
      "CART train MAE: 1495.6005871806374\n",
      "Baseline MAE: 1930.3982243470425\n",
      "CART train MSE: 4475013.881532587\n",
      "Baseline MSE: 6612492.526712259\n",
      "CART train RMSE: 2115.4228611633625\n",
      "Baseline RMSE: 2571.476721013095\n"
     ]
    }
   ],
   "source": [
    "# evaluate\n",
    "from sklearn.metrics import mean_absolute_error, mean_squared_error\n",
    "mae_cart_01 = mean_absolute_error(y, prediction_cart_01)\n",
    "mse_cart_01 = mean_squared_error(y, prediction_cart_01)\n",
    "rmse_cart_01 = np.sqrt(mse_cart_01)\n",
    "\n",
    "print(f\"CART train MAE: {mae_cart_01}\")\n",
    "print(f\"Baseline MAE: {baseline_mae}\")\n",
    "print(f\"CART train MSE: {mse_cart_01}\")\n",
    "print(f\"Baseline MSE: {baseline_mse}\")\n",
    "print(f\"CART train RMSE: {rmse_cart_01}\")\n",
    "print(f\"Baseline RMSE: {baseline_rmse}\")\n"
   ]
  },
  {
   "cell_type": "code",
   "execution_count": 31,
   "metadata": {},
   "outputs": [
    {
     "data": {
      "text/plain": [
       "0.340797984805823"
      ]
     },
     "execution_count": 31,
     "metadata": {},
     "output_type": "execute_result"
    }
   ],
   "source": [
    "cart_01.score(x,y)"
   ]
  },
  {
   "cell_type": "markdown",
   "metadata": {},
   "source": [
    "## C5.0 model 01 (continous, train set)"
   ]
  },
  {
   "cell_type": "code",
   "execution_count": 32,
   "metadata": {},
   "outputs": [],
   "source": [
    "c50_01 = DecisionTreeRegressor(criterion=\"absolute_error\",max_leaf_nodes=5).fit(x,y)"
   ]
  },
  {
   "cell_type": "code",
   "execution_count": 33,
   "metadata": {},
   "outputs": [],
   "source": [
    "prediction_c50_01 = c50_01.predict(x)"
   ]
  },
  {
   "cell_type": "code",
   "execution_count": 60,
   "metadata": {},
   "outputs": [
    {
     "name": "stdout",
     "output_type": "stream",
     "text": [
      "C5.0 train MAE: 1489.3208602846053\n",
      "Baseline MAE: 1930.3982243470425\n",
      "C5.0 train MSE: 4789397.336091138\n",
      "Baseline MSE: 6612492.526712259\n",
      "C5.0 train RMSE: 2188.4691764087374\n",
      "Baseline RMSE: 2571.476721013095\n"
     ]
    }
   ],
   "source": [
    "mae_c50_01 = mean_absolute_error(y, prediction_c50_01)\n",
    "mse_c50_01 = mean_squared_error(y, prediction_c50_01)\n",
    "rmse_c50_01 = np.sqrt(mse_c50_01)\n",
    "\n",
    "print(f\"C5.0 train MAE: {mae_c50_01}\")\n",
    "print(f\"Baseline MAE: {baseline_mae}\")\n",
    "print(f\"C5.0 train MSE: {mse_c50_01}\")\n",
    "print(f\"Baseline MSE: {baseline_mse}\")\n",
    "print(f\"C5.0 train RMSE: {rmse_c50_01}\")\n",
    "print(f\"Baseline RMSE: {baseline_rmse}\")"
   ]
  },
  {
   "cell_type": "code",
   "execution_count": 35,
   "metadata": {},
   "outputs": [
    {
     "data": {
      "text/plain": [
       "0.29448702080100786"
      ]
     },
     "execution_count": 35,
     "metadata": {},
     "output_type": "execute_result"
    }
   ],
   "source": [
    "c50_01.score(x,y)"
   ]
  },
  {
   "cell_type": "markdown",
   "metadata": {},
   "source": [
    "## Random Forest model 01 (continous, train set)"
   ]
  },
  {
   "cell_type": "code",
   "execution_count": 36,
   "metadata": {},
   "outputs": [],
   "source": [
    "from sklearn.ensemble import RandomForestRegressor"
   ]
  },
  {
   "cell_type": "code",
   "execution_count": 37,
   "metadata": {},
   "outputs": [],
   "source": [
    "rf_01 = RandomForestRegressor(n_estimators=10, criterion=\"absolute_error\").fit(x,y)"
   ]
  },
  {
   "cell_type": "code",
   "execution_count": 38,
   "metadata": {},
   "outputs": [],
   "source": [
    "prediction_rf_01 = rf_01.predict(x)"
   ]
  },
  {
   "cell_type": "code",
   "execution_count": 61,
   "metadata": {},
   "outputs": [
    {
     "name": "stdout",
     "output_type": "stream",
     "text": [
      "Random Forest train MAE: 584.6482677878396\n",
      "Baseline MAE: 1930.3982243470425\n",
      "Random Forest train MSE: 827662.7959425189\n",
      "Baseline MSE: 6612492.526712259\n",
      "Random Forest train RMSE: 909.7597462750915\n",
      "Baseline RMSE: 2571.476721013095\n"
     ]
    }
   ],
   "source": [
    "mae_rf_01 = mean_absolute_error(y, prediction_rf_01)\n",
    "mse_rf_01 = mean_squared_error(y, prediction_rf_01)\n",
    "rmse_rf_01 = np.sqrt(mse_rf_01)\n",
    "\n",
    "print(f\"Random Forest train MAE: {mae_rf_01}\")\n",
    "print(f\"Baseline MAE: {baseline_mae}\")\n",
    "print(f\"Random Forest train MSE: {mse_rf_01}\")\n",
    "print(f\"Baseline MSE: {baseline_mse}\")\n",
    "print(f\"Random Forest train RMSE: {rmse_rf_01}\")\n",
    "print(f\"Baseline RMSE: {baseline_rmse}\")"
   ]
  },
  {
   "cell_type": "code",
   "execution_count": 40,
   "metadata": {},
   "outputs": [
    {
     "data": {
      "text/plain": [
       "0.8780792646838224"
      ]
     },
     "execution_count": 40,
     "metadata": {},
     "output_type": "execute_result"
    }
   ],
   "source": [
    "rf_01.score(x,y)"
   ]
  },
  {
   "cell_type": "markdown",
   "metadata": {},
   "source": [
    "## x_test, y_test"
   ]
  },
  {
   "cell_type": "code",
   "execution_count": 41,
   "metadata": {},
   "outputs": [],
   "source": [
    "x_test = crime_test[['population', \n",
    "              'PopDens', \n",
    "              'numbUrban', \n",
    "              'pctUrban', \n",
    "              'medIncome', \n",
    "              'MedRent', \n",
    "              'PctHousOccup', \n",
    "              'PctHousOwnOcc', \n",
    "              'PersPerOwnOccHous', \n",
    "              'PersPerRentOccHous'\n",
    "              ]]\n",
    "y_test = crime_test['theftComb']"
   ]
  },
  {
   "cell_type": "markdown",
   "metadata": {},
   "source": [
    "## CART model 02 (continuous, test set)"
   ]
  },
  {
   "cell_type": "code",
   "execution_count": 42,
   "metadata": {},
   "outputs": [],
   "source": [
    "cart_02 = DecisionTreeRegressor(max_leaf_nodes=5).fit(x_test,y_test)"
   ]
  },
  {
   "cell_type": "code",
   "execution_count": 43,
   "metadata": {},
   "outputs": [],
   "source": [
    "prediction_cart_02 = cart_02.predict(x_test)"
   ]
  },
  {
   "cell_type": "code",
   "execution_count": 63,
   "metadata": {},
   "outputs": [
    {
     "name": "stdout",
     "output_type": "stream",
     "text": [
      "CART test MAE: 1444.8138672448306\n",
      "Baseline MAE: 1930.3982243470425\n",
      "CART test MSE: 3790327.719995509\n",
      "Baseline MSE: 6612492.526712259\n",
      "CART test RMSE: 1946.876400800911\n",
      "Baseline RMSE: 2571.476721013095\n"
     ]
    }
   ],
   "source": [
    "mae_cart_02 = mean_absolute_error(y_test, prediction_cart_02)\n",
    "mse_cart_02 = mean_squared_error(y_test, prediction_cart_02)\n",
    "rmse_cart_02 = np.sqrt(mse_cart_02)\n",
    "\n",
    "print(f\"CART test MAE: {mae_cart_02}\")\n",
    "print(f\"Baseline MAE: {baseline_mae}\")\n",
    "print(f\"CART test MSE: {mse_cart_02}\")\n",
    "print(f\"Baseline MSE: {baseline_mse}\")\n",
    "print(f\"CART test RMSE: {rmse_cart_02}\")\n",
    "print(f\"Baseline RMSE: {baseline_rmse}\")"
   ]
  },
  {
   "cell_type": "code",
   "execution_count": 45,
   "metadata": {},
   "outputs": [
    {
     "data": {
      "text/plain": [
       "0.3860278560454057"
      ]
     },
     "execution_count": 45,
     "metadata": {},
     "output_type": "execute_result"
    }
   ],
   "source": [
    "cart_02.score(x_test,y_test)"
   ]
  },
  {
   "cell_type": "markdown",
   "metadata": {},
   "source": [
    "## C5.0 model 02 (continous, test set)"
   ]
  },
  {
   "cell_type": "code",
   "execution_count": 46,
   "metadata": {},
   "outputs": [],
   "source": [
    "c50_02 = DecisionTreeRegressor(criterion=\"absolute_error\",max_leaf_nodes=5).fit(x_test,y_test)"
   ]
  },
  {
   "cell_type": "code",
   "execution_count": 47,
   "metadata": {},
   "outputs": [],
   "source": [
    "prediction_c50_02 = c50_02.predict(x_test)"
   ]
  },
  {
   "cell_type": "code",
   "execution_count": 64,
   "metadata": {},
   "outputs": [
    {
     "name": "stdout",
     "output_type": "stream",
     "text": [
      "C5.0 test MAE: 1325.9018702865762\n",
      "Baseline MAE: 1930.3982243470425\n",
      "C5.0 test MSE: 3782323.3148526396\n",
      "Baseline MSE: 6612492.526712259\n",
      "C5.0 test RMSE: 1944.8196098488515\n",
      "Baseline test RMSE: 2571.476721013095\n"
     ]
    }
   ],
   "source": [
    "mae_c50_02 = mean_absolute_error(y_test, prediction_c50_02)\n",
    "mse_c50_02 = mean_squared_error(y_test, prediction_c50_02)\n",
    "rmse_c50_02 = np.sqrt(mse_c50_02)\n",
    "\n",
    "print(f\"C5.0 test MAE: {mae_c50_02}\")\n",
    "print(f\"Baseline MAE: {baseline_mae}\")\n",
    "print(f\"C5.0 test MSE: {mse_c50_02}\")\n",
    "print(f\"Baseline MSE: {baseline_mse}\")\n",
    "print(f\"C5.0 test RMSE: {rmse_c50_02}\")\n",
    "print(f\"Baseline test RMSE: {baseline_rmse}\")"
   ]
  },
  {
   "cell_type": "code",
   "execution_count": 49,
   "metadata": {},
   "outputs": [
    {
     "data": {
      "text/plain": [
       "0.38732444097148544"
      ]
     },
     "execution_count": 49,
     "metadata": {},
     "output_type": "execute_result"
    }
   ],
   "source": [
    "c50_02.score(x_test,y_test)"
   ]
  },
  {
   "cell_type": "markdown",
   "metadata": {},
   "source": [
    "## Random Forest model 02 (continuous, test set)"
   ]
  },
  {
   "cell_type": "code",
   "execution_count": 50,
   "metadata": {},
   "outputs": [],
   "source": [
    "rf_02 = RandomForestRegressor(n_estimators=10, criterion=\"absolute_error\").fit(x_test,y_test)"
   ]
  },
  {
   "cell_type": "code",
   "execution_count": 51,
   "metadata": {},
   "outputs": [],
   "source": [
    "prediction_rf_02 = rf_02.predict(x_test)"
   ]
  },
  {
   "cell_type": "code",
   "execution_count": 65,
   "metadata": {},
   "outputs": [
    {
     "name": "stdout",
     "output_type": "stream",
     "text": [
      "Random Forest test MAE: 557.63602413273\n",
      "Baseline MAE: 1930.3982243470425\n",
      "Random Forest test MSE: 726545.1149632699\n",
      "Baseline MSE: 6612492.526712259\n",
      "Random Forest test RMSE: 852.3761581386882\n",
      "Baseline MSE: 2571.476721013095\n"
     ]
    }
   ],
   "source": [
    "mae_rf_02 = mean_absolute_error(y_test, prediction_rf_02)\n",
    "mse_rf_02 = mean_squared_error(y_test, prediction_rf_02)\n",
    "rmse_rf_02 = np.sqrt(mse_rf_02)\n",
    "\n",
    "print(f\"Random Forest test MAE: {mae_rf_02}\")\n",
    "print(f\"Baseline MAE: {baseline_mae}\")\n",
    "print(f\"Random Forest test MSE: {mse_rf_02}\")\n",
    "print(f\"Baseline MSE: {baseline_mse}\")\n",
    "print(f\"Random Forest test RMSE: {rmse_rf_02}\")\n",
    "print(f\"Baseline MSE: {baseline_rmse}\")"
   ]
  },
  {
   "cell_type": "code",
   "execution_count": 54,
   "metadata": {},
   "outputs": [
    {
     "data": {
      "text/plain": [
       "0.8823113738792316"
      ]
     },
     "execution_count": 54,
     "metadata": {},
     "output_type": "execute_result"
    }
   ],
   "source": [
    "rf_02.score(x_test,y_test)"
   ]
  },
  {
   "cell_type": "markdown",
   "metadata": {},
   "source": [
    "## Linear Regression model 01 (train set)"
   ]
  },
  {
   "cell_type": "code",
   "execution_count": 83,
   "metadata": {},
   "outputs": [
    {
     "name": "stdout",
     "output_type": "stream",
     "text": [
      "              Feature  Coefficient\n",
      "0          population     0.024379\n",
      "1             PopDens    -0.084026\n",
      "2           numbUrban    -0.023798\n",
      "3            pctUrban    15.400281\n",
      "4           medIncome    -0.008897\n",
      "5             MedRent    -3.289006\n",
      "6        PctHousOccup   -74.683226\n",
      "7       PctHousOwnOcc   -58.122259\n",
      "8   PersPerOwnOccHous -2004.686406\n",
      "9  PersPerRentOccHous  1351.343404\n",
      "Intercept: 18483.779378554456\n"
     ]
    }
   ],
   "source": [
    "from sklearn.linear_model import LinearRegression\n",
    "\n",
    "lr_01 = LinearRegression().fit(x,y)\n",
    "\n",
    "# Get coefficients\n",
    "coefficients = lr_01.coef_\n",
    "\n",
    "# Create a DataFrame to display feature names and their coefficients\n",
    "coefficients_df = pd.DataFrame({'Feature': x.columns, 'Coefficient': coefficients})\n",
    "print(coefficients_df)\n",
    "\n",
    "print(f\"Intercept: {lr_01.intercept_}\")\n"
   ]
  },
  {
   "cell_type": "code",
   "execution_count": 84,
   "metadata": {},
   "outputs": [],
   "source": [
    "prediction_lr_01 = lr_01.predict(x)"
   ]
  },
  {
   "cell_type": "code",
   "execution_count": 85,
   "metadata": {},
   "outputs": [
    {
     "name": "stdout",
     "output_type": "stream",
     "text": [
      "Linear Regression train R-squared: 0.3724840998371882\n",
      "Linear Regression train MAE: 1438.7963271064716\n",
      "Linear Regression train MSE: 4259911.680160479\n",
      "Linear Regression train RMSE: 2063.955348393099\n"
     ]
    }
   ],
   "source": [
    "from sklearn.metrics import r2_score\n",
    "\n",
    "r2_rf_01 = r2_score(y, prediction_lr_01)\n",
    "mae_rf_01 = mean_absolute_error(y, prediction_lr_01)\n",
    "mse_rf_01 = mean_squared_error(y, prediction_lr_01)\n",
    "rmse_rf_01 = np.sqrt(mse_rf_01)\n",
    "\n",
    "print(\"Linear Regression train R-squared:\", r2_rf_01)\n",
    "print(\"Linear Regression train MAE:\", mae_rf_01)\n",
    "print(\"Linear Regression train MSE:\", mse_rf_01)\n",
    "print(\"Linear Regression train RMSE:\", rmse_rf_01)"
   ]
  },
  {
   "cell_type": "markdown",
   "metadata": {},
   "source": [
    "## Linear Regression model 02 (test set)"
   ]
  },
  {
   "cell_type": "code",
   "execution_count": 88,
   "metadata": {},
   "outputs": [],
   "source": [
    "lr_02 = LinearRegression().fit(x_test, y_test)"
   ]
  },
  {
   "cell_type": "code",
   "execution_count": 89,
   "metadata": {},
   "outputs": [],
   "source": [
    "prediction_lr_02 = lr_02.predict(x_test)"
   ]
  },
  {
   "cell_type": "code",
   "execution_count": 91,
   "metadata": {},
   "outputs": [
    {
     "name": "stdout",
     "output_type": "stream",
     "text": [
      "Linear Regression test R-squared: 0.3802562880454712\n",
      "Linear Regression test MAE: 1361.6866945293114\n",
      "Linear Regression test MSE: 3825958.219511475\n",
      "Linear Regression test RMSE: 1956.005679825975\n"
     ]
    }
   ],
   "source": [
    "r2_rf_02 = r2_score(y_test, prediction_lr_02)\n",
    "mae_rf_02 = mean_absolute_error(y_test, prediction_lr_02)\n",
    "mse_rf_02 = mean_squared_error(y_test, prediction_lr_02)\n",
    "rmse_rf_02 = np.sqrt(mse_rf_02)\n",
    "\n",
    "print(\"Linear Regression test R-squared:\", r2_rf_02)\n",
    "print(\"Linear Regression test MAE:\", mae_rf_02)\n",
    "print(\"Linear Regression test MSE:\", mse_rf_02)\n",
    "print(\"Linear Regression test RMSE:\", rmse_rf_02)"
   ]
  },
  {
   "cell_type": "code",
   "execution_count": null,
   "metadata": {},
   "outputs": [],
   "source": []
  }
 ],
 "metadata": {
  "kernelspec": {
   "display_name": "Python 3",
   "language": "python",
   "name": "python3"
  },
  "language_info": {
   "codemirror_mode": {
    "name": "ipython",
    "version": 3
   },
   "file_extension": ".py",
   "mimetype": "text/x-python",
   "name": "python",
   "nbconvert_exporter": "python",
   "pygments_lexer": "ipython3",
   "version": "3.12.1"
  }
 },
 "nbformat": 4,
 "nbformat_minor": 2
}
