{
 "cells": [
  {
   "cell_type": "code",
   "execution_count": 1,
   "metadata": {},
   "outputs": [],
   "source": [
    "import pandas as pd"
   ]
  },
  {
   "cell_type": "code",
   "execution_count": 2,
   "metadata": {},
   "outputs": [
    {
     "data": {
      "text/html": [
       "<div>\n",
       "<style scoped>\n",
       "    .dataframe tbody tr th:only-of-type {\n",
       "        vertical-align: middle;\n",
       "    }\n",
       "\n",
       "    .dataframe tbody tr th {\n",
       "        vertical-align: top;\n",
       "    }\n",
       "\n",
       "    .dataframe thead th {\n",
       "        text-align: right;\n",
       "    }\n",
       "</style>\n",
       "<table border=\"1\" class=\"dataframe\">\n",
       "  <thead>\n",
       "    <tr style=\"text-align: right;\">\n",
       "      <th></th>\n",
       "      <th>population</th>\n",
       "      <th>PopDens</th>\n",
       "      <th>numbUrban</th>\n",
       "      <th>pctUrban</th>\n",
       "      <th>medIncome</th>\n",
       "      <th>MedRent</th>\n",
       "      <th>PctHousOccup</th>\n",
       "      <th>PctHousOwnOcc</th>\n",
       "      <th>PersPerOwnOccHous</th>\n",
       "      <th>PersPerRentOccHous</th>\n",
       "      <th>burglPerPop</th>\n",
       "      <th>larcPerPop</th>\n",
       "      <th>robbPerPop</th>\n",
       "      <th>theftComb</th>\n",
       "    </tr>\n",
       "  </thead>\n",
       "  <tbody>\n",
       "    <tr>\n",
       "      <th>0</th>\n",
       "      <td>11980</td>\n",
       "      <td>1845.9</td>\n",
       "      <td>11980</td>\n",
       "      <td>100.0</td>\n",
       "      <td>75122</td>\n",
       "      <td>1001</td>\n",
       "      <td>98.37</td>\n",
       "      <td>91.01</td>\n",
       "      <td>3.00</td>\n",
       "      <td>2.84</td>\n",
       "      <td>114.85</td>\n",
       "      <td>1132.08</td>\n",
       "      <td>8.20</td>\n",
       "      <td>1255.13</td>\n",
       "    </tr>\n",
       "    <tr>\n",
       "      <th>1</th>\n",
       "      <td>23123</td>\n",
       "      <td>2186.7</td>\n",
       "      <td>23123</td>\n",
       "      <td>100.0</td>\n",
       "      <td>47917</td>\n",
       "      <td>627</td>\n",
       "      <td>97.15</td>\n",
       "      <td>84.88</td>\n",
       "      <td>2.83</td>\n",
       "      <td>1.96</td>\n",
       "      <td>242.37</td>\n",
       "      <td>1598.78</td>\n",
       "      <td>21.26</td>\n",
       "      <td>1862.41</td>\n",
       "    </tr>\n",
       "    <tr>\n",
       "      <th>2</th>\n",
       "      <td>29344</td>\n",
       "      <td>2780.9</td>\n",
       "      <td>29344</td>\n",
       "      <td>100.0</td>\n",
       "      <td>35669</td>\n",
       "      <td>484</td>\n",
       "      <td>95.68</td>\n",
       "      <td>57.79</td>\n",
       "      <td>2.69</td>\n",
       "      <td>2.06</td>\n",
       "      <td>758.14</td>\n",
       "      <td>4972.19</td>\n",
       "      <td>154.95</td>\n",
       "      <td>5885.28</td>\n",
       "    </tr>\n",
       "    <tr>\n",
       "      <th>3</th>\n",
       "      <td>16656</td>\n",
       "      <td>3217.7</td>\n",
       "      <td>0</td>\n",
       "      <td>0.0</td>\n",
       "      <td>20580</td>\n",
       "      <td>333</td>\n",
       "      <td>91.19</td>\n",
       "      <td>54.89</td>\n",
       "      <td>2.51</td>\n",
       "      <td>2.20</td>\n",
       "      <td>1301.78</td>\n",
       "      <td>4142.56</td>\n",
       "      <td>57.86</td>\n",
       "      <td>5502.20</td>\n",
       "    </tr>\n",
       "    <tr>\n",
       "      <th>4</th>\n",
       "      <td>11245</td>\n",
       "      <td>974.2</td>\n",
       "      <td>0</td>\n",
       "      <td>0.0</td>\n",
       "      <td>17390</td>\n",
       "      <td>332</td>\n",
       "      <td>92.45</td>\n",
       "      <td>53.57</td>\n",
       "      <td>2.55</td>\n",
       "      <td>2.12</td>\n",
       "      <td>728.93</td>\n",
       "      <td>8490.87</td>\n",
       "      <td>32.04</td>\n",
       "      <td>9251.84</td>\n",
       "    </tr>\n",
       "  </tbody>\n",
       "</table>\n",
       "</div>"
      ],
      "text/plain": [
       "   population  PopDens  numbUrban  pctUrban  medIncome  MedRent  PctHousOccup  \\\n",
       "0       11980   1845.9      11980     100.0      75122     1001         98.37   \n",
       "1       23123   2186.7      23123     100.0      47917      627         97.15   \n",
       "2       29344   2780.9      29344     100.0      35669      484         95.68   \n",
       "3       16656   3217.7          0       0.0      20580      333         91.19   \n",
       "4       11245    974.2          0       0.0      17390      332         92.45   \n",
       "\n",
       "   PctHousOwnOcc  PersPerOwnOccHous  PersPerRentOccHous  burglPerPop  \\\n",
       "0          91.01               3.00                2.84       114.85   \n",
       "1          84.88               2.83                1.96       242.37   \n",
       "2          57.79               2.69                2.06       758.14   \n",
       "3          54.89               2.51                2.20      1301.78   \n",
       "4          53.57               2.55                2.12       728.93   \n",
       "\n",
       "   larcPerPop  robbPerPop  theftComb  \n",
       "0     1132.08        8.20    1255.13  \n",
       "1     1598.78       21.26    1862.41  \n",
       "2     4972.19      154.95    5885.28  \n",
       "3     4142.56       57.86    5502.20  \n",
       "4     8490.87       32.04    9251.84  "
      ]
     },
     "execution_count": 2,
     "metadata": {},
     "output_type": "execute_result"
    }
   ],
   "source": [
    "crime_df = pd.read_csv(\"/Users/fabiolarojas/Documents/data-science/dtsc3601-2/project-3601/filtered_crime_df.csv\")\n",
    "crime_df.head()"
   ]
  },
  {
   "cell_type": "markdown",
   "metadata": {},
   "source": [
    "## baseline"
   ]
  },
  {
   "cell_type": "code",
   "execution_count": 3,
   "metadata": {},
   "outputs": [
    {
     "data": {
      "text/plain": [
       "4565.73932095971"
      ]
     },
     "execution_count": 3,
     "metadata": {},
     "output_type": "execute_result"
    }
   ],
   "source": [
    "mean = crime_df['theftComb'].mean()\n",
    "mean"
   ]
  },
  {
   "cell_type": "code",
   "execution_count": 4,
   "metadata": {},
   "outputs": [
    {
     "data": {
      "text/plain": [
       "1930.3982243470425"
      ]
     },
     "execution_count": 4,
     "metadata": {},
     "output_type": "execute_result"
    }
   ],
   "source": [
    "crime_df['abs_diff_from_mean'] = abs(crime_df['theftComb'] - mean)\n",
    "mean_abs_error = crime_df['abs_diff_from_mean'].mean()\n",
    "mean_abs_error"
   ]
  },
  {
   "cell_type": "markdown",
   "metadata": {},
   "source": [
    "## train test split 70/30"
   ]
  },
  {
   "cell_type": "code",
   "execution_count": 9,
   "metadata": {},
   "outputs": [],
   "source": [
    "from sklearn.model_selection import train_test_split"
   ]
  },
  {
   "cell_type": "code",
   "execution_count": 10,
   "metadata": {},
   "outputs": [
    {
     "name": "stdout",
     "output_type": "stream",
     "text": [
      "(1546, 15)\n",
      "(663, 15)\n"
     ]
    }
   ],
   "source": [
    "crime_train, crime_test = train_test_split(crime_df, test_size =0.3, random_state = 1)\n",
    "print(crime_train.shape)\n",
    "print(crime_test.shape)"
   ]
  },
  {
   "cell_type": "code",
   "execution_count": 11,
   "metadata": {},
   "outputs": [],
   "source": [
    "x = crime_train[['population', \n",
    "              'PopDens', \n",
    "              'numbUrban', \n",
    "              'pctUrban', \n",
    "              'medIncome', \n",
    "              'MedRent', \n",
    "              'PctHousOccup', \n",
    "              'PctHousOwnOcc', \n",
    "              'PersPerOwnOccHous', \n",
    "              'PersPerRentOccHous'\n",
    "              ]]\n",
    "y = crime_train['theftComb']"
   ]
  },
  {
   "cell_type": "markdown",
   "metadata": {},
   "source": [
    "## CART model 01 (continuous, train set)"
   ]
  },
  {
   "cell_type": "code",
   "execution_count": 12,
   "metadata": {},
   "outputs": [],
   "source": [
    "from sklearn.tree import DecisionTreeRegressor"
   ]
  },
  {
   "cell_type": "code",
   "execution_count": 13,
   "metadata": {},
   "outputs": [],
   "source": [
    "# train\n",
    "cart_01 = DecisionTreeRegressor(max_leaf_nodes=5).fit(x,y)"
   ]
  },
  {
   "cell_type": "code",
   "execution_count": 14,
   "metadata": {},
   "outputs": [],
   "source": [
    "# predict\n",
    "prediction_cart_01 = cart_01.predict(x)"
   ]
  },
  {
   "cell_type": "code",
   "execution_count": 15,
   "metadata": {},
   "outputs": [
    {
     "name": "stdout",
     "output_type": "stream",
     "text": [
      "CART MAE: 1495.6005871806374\n",
      "Baseline MAE: 1930.3982243470425\n"
     ]
    }
   ],
   "source": [
    "# evaluate\n",
    "from sklearn.metrics import mean_absolute_error\n",
    "mae_cart_01 = mean_absolute_error(y, prediction_cart_01)\n",
    "print(f\"CART MAE: {mae_cart_01}\")\n",
    "print(f\"Baseline MAE: {mean_abs_error}\")\n"
   ]
  },
  {
   "cell_type": "code",
   "execution_count": 16,
   "metadata": {},
   "outputs": [
    {
     "data": {
      "text/plain": [
       "0.340797984805823"
      ]
     },
     "execution_count": 16,
     "metadata": {},
     "output_type": "execute_result"
    }
   ],
   "source": [
    "cart_01.score(x,y)"
   ]
  },
  {
   "cell_type": "markdown",
   "metadata": {},
   "source": [
    "## C5.0 model 01 (continous, train set)"
   ]
  },
  {
   "cell_type": "code",
   "execution_count": 17,
   "metadata": {},
   "outputs": [],
   "source": [
    "c50_01 = DecisionTreeRegressor(criterion=\"absolute_error\",max_leaf_nodes=5).fit(x,y)"
   ]
  },
  {
   "cell_type": "code",
   "execution_count": 18,
   "metadata": {},
   "outputs": [],
   "source": [
    "prediction_c50_01 = c50_01.predict(x)"
   ]
  },
  {
   "cell_type": "code",
   "execution_count": 19,
   "metadata": {},
   "outputs": [
    {
     "name": "stdout",
     "output_type": "stream",
     "text": [
      "C5.0 MAE: 1489.3208602846053\n",
      "Baseline MAE: 1930.3982243470425\n"
     ]
    }
   ],
   "source": [
    "mae_c50_01 = mean_absolute_error(y, prediction_c50_01)\n",
    "print(f\"C5.0 MAE: {mae_c50_01}\")\n",
    "print(f\"Baseline MAE: {mean_abs_error}\")"
   ]
  },
  {
   "cell_type": "code",
   "execution_count": 20,
   "metadata": {},
   "outputs": [
    {
     "data": {
      "text/plain": [
       "0.29448702080100786"
      ]
     },
     "execution_count": 20,
     "metadata": {},
     "output_type": "execute_result"
    }
   ],
   "source": [
    "c50_01.score(x,y)"
   ]
  },
  {
   "cell_type": "markdown",
   "metadata": {},
   "source": [
    "## Random Forest model 01 (continous, train set)"
   ]
  },
  {
   "cell_type": "code",
   "execution_count": 21,
   "metadata": {},
   "outputs": [],
   "source": [
    "from sklearn.ensemble import RandomForestRegressor"
   ]
  },
  {
   "cell_type": "code",
   "execution_count": 22,
   "metadata": {},
   "outputs": [],
   "source": [
    "rf_01 = RandomForestRegressor(n_estimators=10, criterion=\"absolute_error\").fit(x,y)"
   ]
  },
  {
   "cell_type": "code",
   "execution_count": 23,
   "metadata": {},
   "outputs": [],
   "source": [
    "prediction_rf_01 = rf_01.predict(x)"
   ]
  },
  {
   "cell_type": "code",
   "execution_count": 24,
   "metadata": {},
   "outputs": [
    {
     "name": "stdout",
     "output_type": "stream",
     "text": [
      "Random Forest MAE: 573.6973861578266\n",
      "Baseline MAE: 1930.3982243470425\n"
     ]
    }
   ],
   "source": [
    "mae_rf_01 = mean_absolute_error(y, prediction_rf_01)\n",
    "print(f\"Random Forest MAE: {mae_rf_01}\")\n",
    "print(f\"Baseline MAE: {mean_abs_error}\")"
   ]
  },
  {
   "cell_type": "code",
   "execution_count": 25,
   "metadata": {},
   "outputs": [
    {
     "data": {
      "text/plain": [
       "0.8912436918860963"
      ]
     },
     "execution_count": 25,
     "metadata": {},
     "output_type": "execute_result"
    }
   ],
   "source": [
    "rf_01.score(x,y)"
   ]
  },
  {
   "cell_type": "markdown",
   "metadata": {},
   "source": [
    "## x_test, y_test"
   ]
  },
  {
   "cell_type": "code",
   "execution_count": 26,
   "metadata": {},
   "outputs": [],
   "source": [
    "x_test = crime_test[['population', \n",
    "              'PopDens', \n",
    "              'numbUrban', \n",
    "              'pctUrban', \n",
    "              'medIncome', \n",
    "              'MedRent', \n",
    "              'PctHousOccup', \n",
    "              'PctHousOwnOcc', \n",
    "              'PersPerOwnOccHous', \n",
    "              'PersPerRentOccHous'\n",
    "              ]]\n",
    "y_test = crime_test['theftComb']"
   ]
  },
  {
   "cell_type": "markdown",
   "metadata": {},
   "source": [
    "## CART model 02 (continuous, test set)"
   ]
  },
  {
   "cell_type": "code",
   "execution_count": 27,
   "metadata": {},
   "outputs": [],
   "source": [
    "cart_02 = DecisionTreeRegressor(max_leaf_nodes=5).fit(x_test,y_test)"
   ]
  },
  {
   "cell_type": "code",
   "execution_count": 28,
   "metadata": {},
   "outputs": [],
   "source": [
    "prediction_cart_02 = cart_02.predict(x_test)"
   ]
  },
  {
   "cell_type": "code",
   "execution_count": 29,
   "metadata": {},
   "outputs": [
    {
     "name": "stdout",
     "output_type": "stream",
     "text": [
      "CART MAE: 1444.8138672448306\n",
      "Baseline MAE: 1930.3982243470425\n"
     ]
    }
   ],
   "source": [
    "mae_cart_02 = mean_absolute_error(y_test, prediction_cart_02)\n",
    "print(f\"CART MAE: {mae_cart_02}\")\n",
    "print(f\"Baseline MAE: {mean_abs_error}\")"
   ]
  },
  {
   "cell_type": "code",
   "execution_count": 30,
   "metadata": {},
   "outputs": [
    {
     "data": {
      "text/plain": [
       "0.3860278560454057"
      ]
     },
     "execution_count": 30,
     "metadata": {},
     "output_type": "execute_result"
    }
   ],
   "source": [
    "cart_02.score(x_test,y_test)"
   ]
  },
  {
   "cell_type": "markdown",
   "metadata": {},
   "source": [
    "## C5.0 model 02 (continous, test set)"
   ]
  },
  {
   "cell_type": "code",
   "execution_count": 31,
   "metadata": {},
   "outputs": [],
   "source": [
    "c50_02 = DecisionTreeRegressor(criterion=\"absolute_error\",max_leaf_nodes=5).fit(x_test,y_test)"
   ]
  },
  {
   "cell_type": "code",
   "execution_count": 32,
   "metadata": {},
   "outputs": [],
   "source": [
    "prediction_c50_02 = c50_02.predict(x_test)"
   ]
  },
  {
   "cell_type": "code",
   "execution_count": 33,
   "metadata": {},
   "outputs": [
    {
     "name": "stdout",
     "output_type": "stream",
     "text": [
      "C5.0 MAE: 1325.9018702865762\n",
      "Baseline MAE: 1930.3982243470425\n"
     ]
    }
   ],
   "source": [
    "mae_c50_02 = mean_absolute_error(y_test, prediction_c50_02)\n",
    "print(f\"C5.0 MAE: {mae_c50_02}\")\n",
    "print(f\"Baseline MAE: {mean_abs_error}\")"
   ]
  },
  {
   "cell_type": "code",
   "execution_count": 34,
   "metadata": {},
   "outputs": [
    {
     "data": {
      "text/plain": [
       "0.38732444097148544"
      ]
     },
     "execution_count": 34,
     "metadata": {},
     "output_type": "execute_result"
    }
   ],
   "source": [
    "c50_02.score(x_test,y_test)"
   ]
  },
  {
   "cell_type": "markdown",
   "metadata": {},
   "source": [
    "## Random Forest model 02 (continuous, test set)"
   ]
  },
  {
   "cell_type": "code",
   "execution_count": 35,
   "metadata": {},
   "outputs": [],
   "source": [
    "rf_02 = RandomForestRegressor(n_estimators=10, criterion=\"absolute_error\").fit(x_test,y_test)"
   ]
  },
  {
   "cell_type": "code",
   "execution_count": 36,
   "metadata": {},
   "outputs": [],
   "source": [
    "prediction_rf_02 = rf_02.predict(x_test)"
   ]
  },
  {
   "cell_type": "code",
   "execution_count": 37,
   "metadata": {},
   "outputs": [
    {
     "name": "stdout",
     "output_type": "stream",
     "text": [
      "Random Forest MAE: 578.5573461538461\n",
      "Baseline MAE: 1930.3982243470425\n"
     ]
    }
   ],
   "source": [
    "mae_rf_02 = mean_absolute_error(y_test, prediction_rf_02)\n",
    "print(f\"Random Forest MAE: {mae_rf_02}\")\n",
    "print(f\"Baseline MAE: {mean_abs_error}\")"
   ]
  },
  {
   "cell_type": "code",
   "execution_count": 38,
   "metadata": {},
   "outputs": [
    {
     "data": {
      "text/plain": [
       "0.8823159183511863"
      ]
     },
     "execution_count": 38,
     "metadata": {},
     "output_type": "execute_result"
    }
   ],
   "source": [
    "rf_02.score(x_test,y_test)"
   ]
  }
 ],
 "metadata": {
  "kernelspec": {
   "display_name": "Python 3",
   "language": "python",
   "name": "python3"
  },
  "language_info": {
   "codemirror_mode": {
    "name": "ipython",
    "version": 3
   },
   "file_extension": ".py",
   "mimetype": "text/x-python",
   "name": "python",
   "nbconvert_exporter": "python",
   "pygments_lexer": "ipython3",
   "version": "3.12.1"
  }
 },
 "nbformat": 4,
 "nbformat_minor": 2
}
