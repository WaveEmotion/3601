{
 "cells": [
  {
   "cell_type": "code",
   "execution_count": 49,
   "metadata": {},
   "outputs": [],
   "source": [
    "import pandas as pd"
   ]
  },
  {
   "cell_type": "code",
   "execution_count": 50,
   "metadata": {},
   "outputs": [
    {
     "data": {
      "text/html": [
       "<div>\n",
       "<style scoped>\n",
       "    .dataframe tbody tr th:only-of-type {\n",
       "        vertical-align: middle;\n",
       "    }\n",
       "\n",
       "    .dataframe tbody tr th {\n",
       "        vertical-align: top;\n",
       "    }\n",
       "\n",
       "    .dataframe thead th {\n",
       "        text-align: right;\n",
       "    }\n",
       "</style>\n",
       "<table border=\"1\" class=\"dataframe\">\n",
       "  <thead>\n",
       "    <tr style=\"text-align: right;\">\n",
       "      <th></th>\n",
       "      <th>population</th>\n",
       "      <th>PopDens</th>\n",
       "      <th>numbUrban</th>\n",
       "      <th>pctUrban</th>\n",
       "      <th>medIncome</th>\n",
       "      <th>MedRent</th>\n",
       "      <th>PctHousOccup</th>\n",
       "      <th>PctHousOwnOcc</th>\n",
       "      <th>PersPerOwnOccHous</th>\n",
       "      <th>PersPerRentOccHous</th>\n",
       "      <th>nonViolPerPop</th>\n",
       "    </tr>\n",
       "  </thead>\n",
       "  <tbody>\n",
       "    <tr>\n",
       "      <th>0</th>\n",
       "      <td>11980</td>\n",
       "      <td>1845.9</td>\n",
       "      <td>11980</td>\n",
       "      <td>100.0</td>\n",
       "      <td>75122</td>\n",
       "      <td>1001</td>\n",
       "      <td>98.37</td>\n",
       "      <td>91.01</td>\n",
       "      <td>3.00</td>\n",
       "      <td>2.84</td>\n",
       "      <td>1394.59</td>\n",
       "    </tr>\n",
       "    <tr>\n",
       "      <th>1</th>\n",
       "      <td>23123</td>\n",
       "      <td>2186.7</td>\n",
       "      <td>23123</td>\n",
       "      <td>100.0</td>\n",
       "      <td>47917</td>\n",
       "      <td>627</td>\n",
       "      <td>97.15</td>\n",
       "      <td>84.88</td>\n",
       "      <td>2.83</td>\n",
       "      <td>1.96</td>\n",
       "      <td>1955.95</td>\n",
       "    </tr>\n",
       "    <tr>\n",
       "      <th>2</th>\n",
       "      <td>29344</td>\n",
       "      <td>2780.9</td>\n",
       "      <td>29344</td>\n",
       "      <td>100.0</td>\n",
       "      <td>35669</td>\n",
       "      <td>484</td>\n",
       "      <td>95.68</td>\n",
       "      <td>57.79</td>\n",
       "      <td>2.69</td>\n",
       "      <td>2.06</td>\n",
       "      <td>6167.51</td>\n",
       "    </tr>\n",
       "    <tr>\n",
       "      <th>3</th>\n",
       "      <td>11245</td>\n",
       "      <td>974.2</td>\n",
       "      <td>0</td>\n",
       "      <td>0.0</td>\n",
       "      <td>17390</td>\n",
       "      <td>332</td>\n",
       "      <td>92.45</td>\n",
       "      <td>53.57</td>\n",
       "      <td>2.55</td>\n",
       "      <td>2.12</td>\n",
       "      <td>9988.79</td>\n",
       "    </tr>\n",
       "    <tr>\n",
       "      <th>4</th>\n",
       "      <td>140494</td>\n",
       "      <td>1995.7</td>\n",
       "      <td>140494</td>\n",
       "      <td>100.0</td>\n",
       "      <td>21577</td>\n",
       "      <td>340</td>\n",
       "      <td>91.81</td>\n",
       "      <td>55.50</td>\n",
       "      <td>2.37</td>\n",
       "      <td>2.16</td>\n",
       "      <td>6867.42</td>\n",
       "    </tr>\n",
       "  </tbody>\n",
       "</table>\n",
       "</div>"
      ],
      "text/plain": [
       "   population  PopDens  numbUrban  pctUrban  medIncome  MedRent  PctHousOccup  \\\n",
       "0       11980   1845.9      11980     100.0      75122     1001         98.37   \n",
       "1       23123   2186.7      23123     100.0      47917      627         97.15   \n",
       "2       29344   2780.9      29344     100.0      35669      484         95.68   \n",
       "3       11245    974.2          0       0.0      17390      332         92.45   \n",
       "4      140494   1995.7     140494     100.0      21577      340         91.81   \n",
       "\n",
       "   PctHousOwnOcc  PersPerOwnOccHous  PersPerRentOccHous  nonViolPerPop  \n",
       "0          91.01               3.00                2.84        1394.59  \n",
       "1          84.88               2.83                1.96        1955.95  \n",
       "2          57.79               2.69                2.06        6167.51  \n",
       "3          53.57               2.55                2.12        9988.79  \n",
       "4          55.50               2.37                2.16        6867.42  "
      ]
     },
     "execution_count": 50,
     "metadata": {},
     "output_type": "execute_result"
    }
   ],
   "source": [
    "crime_df = pd.read_csv(\"/Users/fabiolarojas/Documents/data-science/dtsc3601-2/project-3601/filtered_crime_df.csv\")\n",
    "crime_df.head()"
   ]
  },
  {
   "cell_type": "markdown",
   "metadata": {},
   "source": [
    "## baseline"
   ]
  },
  {
   "cell_type": "code",
   "execution_count": 51,
   "metadata": {},
   "outputs": [
    {
     "data": {
      "text/plain": [
       "4908.241803588291"
      ]
     },
     "execution_count": 51,
     "metadata": {},
     "output_type": "execute_result"
    }
   ],
   "source": [
    "mean = crime_df['nonViolPerPop'].mean()\n",
    "mean"
   ]
  },
  {
   "cell_type": "code",
   "execution_count": 52,
   "metadata": {},
   "outputs": [
    {
     "data": {
      "text/plain": [
       "2062.8615318048187"
      ]
     },
     "execution_count": 52,
     "metadata": {},
     "output_type": "execute_result"
    }
   ],
   "source": [
    "crime_df['abs_diff_from_mean'] = abs(crime_df['nonViolPerPop'] - mean)\n",
    "mean_abs_error = crime_df['abs_diff_from_mean'].mean()\n",
    "mean_abs_error"
   ]
  },
  {
   "cell_type": "markdown",
   "metadata": {},
   "source": [
    "## train test split 70/30"
   ]
  },
  {
   "cell_type": "code",
   "execution_count": 53,
   "metadata": {},
   "outputs": [],
   "source": [
    "from sklearn.model_selection import train_test_split"
   ]
  },
  {
   "cell_type": "code",
   "execution_count": 54,
   "metadata": {},
   "outputs": [
    {
     "name": "stdout",
     "output_type": "stream",
     "text": [
      "(1482, 12)\n",
      "(636, 12)\n"
     ]
    }
   ],
   "source": [
    "crime_train, crime_test = train_test_split(crime_df, test_size =0.3, random_state = 1)\n",
    "print(crime_train.shape)\n",
    "print(crime_test.shape)"
   ]
  },
  {
   "cell_type": "code",
   "execution_count": 55,
   "metadata": {},
   "outputs": [],
   "source": [
    "x = crime_train[['population', \n",
    "              'PopDens', \n",
    "              'numbUrban', \n",
    "              'pctUrban', \n",
    "              'medIncome', \n",
    "              'MedRent', \n",
    "              'PctHousOccup', \n",
    "              'PctHousOwnOcc', \n",
    "              'PersPerOwnOccHous', \n",
    "              'PersPerRentOccHous',\n",
    "              'nonViolPerPop'\n",
    "              ]]\n",
    "y = crime_train['nonViolPerPop']"
   ]
  },
  {
   "cell_type": "markdown",
   "metadata": {},
   "source": [
    "## CART model 01 (continuous, train set)"
   ]
  },
  {
   "cell_type": "code",
   "execution_count": 56,
   "metadata": {},
   "outputs": [],
   "source": [
    "from sklearn.tree import DecisionTreeRegressor"
   ]
  },
  {
   "cell_type": "code",
   "execution_count": 57,
   "metadata": {},
   "outputs": [],
   "source": [
    "# train\n",
    "cart_01 = DecisionTreeRegressor(max_leaf_nodes=5).fit(x,y)"
   ]
  },
  {
   "cell_type": "code",
   "execution_count": 58,
   "metadata": {},
   "outputs": [],
   "source": [
    "# predict\n",
    "prediction_cart_01 = cart_01.predict(x)"
   ]
  },
  {
   "cell_type": "code",
   "execution_count": 68,
   "metadata": {},
   "outputs": [
    {
     "name": "stdout",
     "output_type": "stream",
     "text": [
      "CART MAE: 649.0226519606493\n",
      "Baseline MAE: 2062.8615318048187\n"
     ]
    }
   ],
   "source": [
    "# evaluate\n",
    "from sklearn.metrics import mean_absolute_error\n",
    "mae_cart_01 = mean_absolute_error(y, prediction_cart_01)\n",
    "print(f\"CART MAE: {mae_cart_01}\")\n",
    "print(f\"Baseline MAE: {mean_abs_error}\")\n"
   ]
  },
  {
   "cell_type": "code",
   "execution_count": 74,
   "metadata": {},
   "outputs": [
    {
     "data": {
      "text/plain": [
       "0.9042072831328893"
      ]
     },
     "execution_count": 74,
     "metadata": {},
     "output_type": "execute_result"
    }
   ],
   "source": [
    "cart_01.score(x,y)"
   ]
  },
  {
   "cell_type": "markdown",
   "metadata": {},
   "source": [
    "## C5.0 model 01 (continous, train set)"
   ]
  },
  {
   "cell_type": "code",
   "execution_count": 60,
   "metadata": {},
   "outputs": [],
   "source": [
    "c50_01 = DecisionTreeRegressor(criterion=\"absolute_error\",max_leaf_nodes=5).fit(x,y)"
   ]
  },
  {
   "cell_type": "code",
   "execution_count": 61,
   "metadata": {},
   "outputs": [],
   "source": [
    "prediction_c50_01 = c50_01.predict(x)"
   ]
  },
  {
   "cell_type": "code",
   "execution_count": 69,
   "metadata": {},
   "outputs": [
    {
     "name": "stdout",
     "output_type": "stream",
     "text": [
      "C5.0 MAE: 562.2119703103914\n",
      "Baseline MAE: 2062.8615318048187\n"
     ]
    }
   ],
   "source": [
    "mae_c50_01 = mean_absolute_error(y, prediction_c50_01)\n",
    "print(f\"C5.0 MAE: {mae_c50_01}\")\n",
    "print(f\"Baseline MAE: {mean_abs_error}\")"
   ]
  },
  {
   "cell_type": "code",
   "execution_count": 73,
   "metadata": {},
   "outputs": [
    {
     "data": {
      "text/plain": [
       "0.8743043536722006"
      ]
     },
     "execution_count": 73,
     "metadata": {},
     "output_type": "execute_result"
    }
   ],
   "source": [
    "c50_01.score(x,y)"
   ]
  },
  {
   "cell_type": "markdown",
   "metadata": {},
   "source": [
    "## Random Forest model 01 (continous, train set)"
   ]
  },
  {
   "cell_type": "code",
   "execution_count": 64,
   "metadata": {},
   "outputs": [],
   "source": [
    "from sklearn.ensemble import RandomForestRegressor"
   ]
  },
  {
   "cell_type": "code",
   "execution_count": 65,
   "metadata": {},
   "outputs": [],
   "source": [
    "rf_01 = RandomForestRegressor(n_estimators=10, criterion=\"absolute_error\").fit(x,y)"
   ]
  },
  {
   "cell_type": "code",
   "execution_count": 66,
   "metadata": {},
   "outputs": [],
   "source": [
    "prediction_rf_01 = rf_01.predict(x)"
   ]
  },
  {
   "cell_type": "code",
   "execution_count": 70,
   "metadata": {},
   "outputs": [
    {
     "name": "stdout",
     "output_type": "stream",
     "text": [
      "Random Forest MAE: 10.1614176788124\n",
      "Baseline MAE: 2062.8615318048187\n"
     ]
    }
   ],
   "source": [
    "mae_rf_01 = mean_absolute_error(y, prediction_rf_01)\n",
    "print(f\"Random Forest MAE: {mae_rf_01}\")\n",
    "print(f\"Baseline MAE: {mean_abs_error}\")"
   ]
  },
  {
   "cell_type": "code",
   "execution_count": 71,
   "metadata": {},
   "outputs": [
    {
     "data": {
      "text/plain": [
       "0.9983017313566429"
      ]
     },
     "execution_count": 71,
     "metadata": {},
     "output_type": "execute_result"
    }
   ],
   "source": [
    "rf_01.score(x,y)"
   ]
  },
  {
   "cell_type": "markdown",
   "metadata": {},
   "source": [
    "## x_test, y_test"
   ]
  },
  {
   "cell_type": "code",
   "execution_count": 76,
   "metadata": {},
   "outputs": [],
   "source": [
    "x_test = crime_test[['population', \n",
    "              'PopDens', \n",
    "              'numbUrban', \n",
    "              'pctUrban', \n",
    "              'medIncome', \n",
    "              'MedRent', \n",
    "              'PctHousOccup', \n",
    "              'PctHousOwnOcc', \n",
    "              'PersPerOwnOccHous', \n",
    "              'PersPerRentOccHous',\n",
    "              'nonViolPerPop'\n",
    "              ]]\n",
    "y_test = crime_test['nonViolPerPop']"
   ]
  },
  {
   "cell_type": "markdown",
   "metadata": {},
   "source": [
    "## CART model 02 (continuous, test set)"
   ]
  },
  {
   "cell_type": "code",
   "execution_count": 79,
   "metadata": {},
   "outputs": [],
   "source": [
    "cart_02 = DecisionTreeRegressor(max_leaf_nodes=5).fit(x_test,y_test)"
   ]
  },
  {
   "cell_type": "code",
   "execution_count": 80,
   "metadata": {},
   "outputs": [],
   "source": [
    "prediction_cart_02 = cart_02.predict(x_test)"
   ]
  },
  {
   "cell_type": "code",
   "execution_count": 81,
   "metadata": {},
   "outputs": [
    {
     "name": "stdout",
     "output_type": "stream",
     "text": [
      "CART MAE: 694.1144469721073\n",
      "Baseline MAE: 2062.8615318048187\n"
     ]
    }
   ],
   "source": [
    "mae_cart_02 = mean_absolute_error(y_test, prediction_cart_02)\n",
    "print(f\"CART MAE: {mae_cart_02}\")\n",
    "print(f\"Baseline MAE: {mean_abs_error}\")"
   ]
  },
  {
   "cell_type": "code",
   "execution_count": 82,
   "metadata": {},
   "outputs": [
    {
     "data": {
      "text/plain": [
       "0.903460861749533"
      ]
     },
     "execution_count": 82,
     "metadata": {},
     "output_type": "execute_result"
    }
   ],
   "source": [
    "cart_02.score(x_test,y_test)"
   ]
  },
  {
   "cell_type": "markdown",
   "metadata": {},
   "source": [
    "## C5.0 model 02 (continous, test set)"
   ]
  },
  {
   "cell_type": "code",
   "execution_count": 83,
   "metadata": {},
   "outputs": [],
   "source": [
    "c50_02 = DecisionTreeRegressor(criterion=\"absolute_error\",max_leaf_nodes=5).fit(x_test,y_test)"
   ]
  },
  {
   "cell_type": "code",
   "execution_count": 84,
   "metadata": {},
   "outputs": [],
   "source": [
    "prediction_c50_02 = c50_02.predict(x_test)"
   ]
  },
  {
   "cell_type": "code",
   "execution_count": 85,
   "metadata": {},
   "outputs": [
    {
     "name": "stdout",
     "output_type": "stream",
     "text": [
      "C5.0 MAE: 603.104606918239\n",
      "Baseline MAE: 2062.8615318048187\n"
     ]
    }
   ],
   "source": [
    "mae_c50_02 = mean_absolute_error(y_test, prediction_c50_02)\n",
    "print(f\"C5.0 MAE: {mae_c50_02}\")\n",
    "print(f\"Baseline MAE: {mean_abs_error}\")"
   ]
  },
  {
   "cell_type": "code",
   "execution_count": 86,
   "metadata": {},
   "outputs": [
    {
     "data": {
      "text/plain": [
       "0.7844505995894856"
      ]
     },
     "execution_count": 86,
     "metadata": {},
     "output_type": "execute_result"
    }
   ],
   "source": [
    "c50_02.score(x_test,y_test)"
   ]
  },
  {
   "cell_type": "markdown",
   "metadata": {},
   "source": [
    "## Random Forest model 02 (continuous, test set)"
   ]
  },
  {
   "cell_type": "code",
   "execution_count": 88,
   "metadata": {},
   "outputs": [],
   "source": [
    "rf_02 = RandomForestRegressor(n_estimators=10, criterion=\"absolute_error\").fit(x_test,y_test)"
   ]
  },
  {
   "cell_type": "code",
   "execution_count": 89,
   "metadata": {},
   "outputs": [],
   "source": [
    "prediction_rf_02 = rf_02.predict(x_test)"
   ]
  },
  {
   "cell_type": "code",
   "execution_count": 90,
   "metadata": {},
   "outputs": [
    {
     "name": "stdout",
     "output_type": "stream",
     "text": [
      "Random Forest MAE: 38.91913679245284\n",
      "Baseline MAE: 2062.8615318048187\n"
     ]
    }
   ],
   "source": [
    "mae_rf_02 = mean_absolute_error(y_test, prediction_rf_02)\n",
    "print(f\"Random Forest MAE: {mae_rf_02}\")\n",
    "print(f\"Baseline MAE: {mean_abs_error}\")"
   ]
  },
  {
   "cell_type": "code",
   "execution_count": 91,
   "metadata": {},
   "outputs": [
    {
     "data": {
      "text/plain": [
       "0.9892233961484146"
      ]
     },
     "execution_count": 91,
     "metadata": {},
     "output_type": "execute_result"
    }
   ],
   "source": [
    "rf_02.score(x_test,y_test)"
   ]
  }
 ],
 "metadata": {
  "kernelspec": {
   "display_name": "Python 3",
   "language": "python",
   "name": "python3"
  },
  "language_info": {
   "codemirror_mode": {
    "name": "ipython",
    "version": 3
   },
   "file_extension": ".py",
   "mimetype": "text/x-python",
   "name": "python",
   "nbconvert_exporter": "python",
   "pygments_lexer": "ipython3",
   "version": "3.12.1"
  }
 },
 "nbformat": 4,
 "nbformat_minor": 2
}
